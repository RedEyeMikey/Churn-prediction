{
 "cells": [
  {
   "cell_type": "code",
   "execution_count": 60,
   "metadata": {},
   "outputs": [],
   "source": [
    "import mlflow\n",
    "import numpy as np\n",
    "import pandas as pd\n",
    "import matplotlib.pyplot as plt\n",
    "import sklearn \n",
    "import seaborn as sns\n",
    "from sklearn.preprocessing import LabelEncoder\n",
    "from sklearn.preprocessing import StandardScaler\n",
    "from sklearn.model_selection import GridSearchCV\n",
    "from sklearn.linear_model import LogisticRegression\n",
    "from sklearn.metrics import accuracy_score,roc_auc_score,confusion_matrix,accuracy_score, f1_score, precision_score, recall_score, classification_report, confusion_matrix,r2_score,log_loss\n",
    "from sklearn.neural_network import MLPClassifier\n",
    "from sklearn.model_selection import train_test_split\n",
    "from catboost import CatBoostRegressor\n",
    "from xgboost import XGBClassifier\n",
    "from sklearn.ensemble import RandomForestClassifier\n",
    "from mlxtend.classifier import StackingClassifier"
   ]
  },
  {
   "cell_type": "code",
   "execution_count": 61,
   "metadata": {},
   "outputs": [
    {
     "data": {
      "text/html": [
       "<div>\n",
       "<style scoped>\n",
       "    .dataframe tbody tr th:only-of-type {\n",
       "        vertical-align: middle;\n",
       "    }\n",
       "\n",
       "    .dataframe tbody tr th {\n",
       "        vertical-align: top;\n",
       "    }\n",
       "\n",
       "    .dataframe thead th {\n",
       "        text-align: right;\n",
       "    }\n",
       "</style>\n",
       "<table border=\"1\" class=\"dataframe\">\n",
       "  <thead>\n",
       "    <tr style=\"text-align: right;\">\n",
       "      <th></th>\n",
       "      <th>Product_Info_1</th>\n",
       "      <th>Product_Info_3</th>\n",
       "      <th>Product_Info_4</th>\n",
       "      <th>Product_Info_5</th>\n",
       "      <th>Product_Info_6</th>\n",
       "      <th>Product_Info_7</th>\n",
       "      <th>Ins_Age</th>\n",
       "      <th>Ht</th>\n",
       "      <th>Wt</th>\n",
       "      <th>BMI</th>\n",
       "      <th>...</th>\n",
       "      <th>Medical_Keyword_40</th>\n",
       "      <th>Medical_Keyword_41</th>\n",
       "      <th>Medical_Keyword_42</th>\n",
       "      <th>Medical_Keyword_43</th>\n",
       "      <th>Medical_Keyword_44</th>\n",
       "      <th>Medical_Keyword_45</th>\n",
       "      <th>Medical_Keyword_46</th>\n",
       "      <th>Medical_Keyword_47</th>\n",
       "      <th>Medical_Keyword_48</th>\n",
       "      <th>Response</th>\n",
       "    </tr>\n",
       "  </thead>\n",
       "  <tbody>\n",
       "    <tr>\n",
       "      <th>0</th>\n",
       "      <td>1</td>\n",
       "      <td>10</td>\n",
       "      <td>0.076923</td>\n",
       "      <td>2</td>\n",
       "      <td>1</td>\n",
       "      <td>1</td>\n",
       "      <td>0.641791</td>\n",
       "      <td>0.581818</td>\n",
       "      <td>0.148536</td>\n",
       "      <td>0.323008</td>\n",
       "      <td>...</td>\n",
       "      <td>0</td>\n",
       "      <td>0</td>\n",
       "      <td>0</td>\n",
       "      <td>0</td>\n",
       "      <td>0</td>\n",
       "      <td>0</td>\n",
       "      <td>0</td>\n",
       "      <td>0</td>\n",
       "      <td>0</td>\n",
       "      <td>8</td>\n",
       "    </tr>\n",
       "    <tr>\n",
       "      <th>1</th>\n",
       "      <td>1</td>\n",
       "      <td>26</td>\n",
       "      <td>0.076923</td>\n",
       "      <td>2</td>\n",
       "      <td>3</td>\n",
       "      <td>1</td>\n",
       "      <td>0.059701</td>\n",
       "      <td>0.600000</td>\n",
       "      <td>0.131799</td>\n",
       "      <td>0.272288</td>\n",
       "      <td>...</td>\n",
       "      <td>0</td>\n",
       "      <td>0</td>\n",
       "      <td>0</td>\n",
       "      <td>0</td>\n",
       "      <td>0</td>\n",
       "      <td>0</td>\n",
       "      <td>0</td>\n",
       "      <td>0</td>\n",
       "      <td>0</td>\n",
       "      <td>4</td>\n",
       "    </tr>\n",
       "    <tr>\n",
       "      <th>2</th>\n",
       "      <td>1</td>\n",
       "      <td>26</td>\n",
       "      <td>0.076923</td>\n",
       "      <td>2</td>\n",
       "      <td>3</td>\n",
       "      <td>1</td>\n",
       "      <td>0.029851</td>\n",
       "      <td>0.745455</td>\n",
       "      <td>0.288703</td>\n",
       "      <td>0.428780</td>\n",
       "      <td>...</td>\n",
       "      <td>0</td>\n",
       "      <td>0</td>\n",
       "      <td>0</td>\n",
       "      <td>0</td>\n",
       "      <td>0</td>\n",
       "      <td>0</td>\n",
       "      <td>0</td>\n",
       "      <td>0</td>\n",
       "      <td>0</td>\n",
       "      <td>8</td>\n",
       "    </tr>\n",
       "    <tr>\n",
       "      <th>3</th>\n",
       "      <td>1</td>\n",
       "      <td>10</td>\n",
       "      <td>0.487179</td>\n",
       "      <td>2</td>\n",
       "      <td>3</td>\n",
       "      <td>1</td>\n",
       "      <td>0.164179</td>\n",
       "      <td>0.672727</td>\n",
       "      <td>0.205021</td>\n",
       "      <td>0.352438</td>\n",
       "      <td>...</td>\n",
       "      <td>0</td>\n",
       "      <td>0</td>\n",
       "      <td>0</td>\n",
       "      <td>0</td>\n",
       "      <td>0</td>\n",
       "      <td>0</td>\n",
       "      <td>0</td>\n",
       "      <td>0</td>\n",
       "      <td>0</td>\n",
       "      <td>8</td>\n",
       "    </tr>\n",
       "    <tr>\n",
       "      <th>4</th>\n",
       "      <td>1</td>\n",
       "      <td>26</td>\n",
       "      <td>0.230769</td>\n",
       "      <td>2</td>\n",
       "      <td>3</td>\n",
       "      <td>1</td>\n",
       "      <td>0.417910</td>\n",
       "      <td>0.654545</td>\n",
       "      <td>0.234310</td>\n",
       "      <td>0.424046</td>\n",
       "      <td>...</td>\n",
       "      <td>0</td>\n",
       "      <td>0</td>\n",
       "      <td>0</td>\n",
       "      <td>0</td>\n",
       "      <td>0</td>\n",
       "      <td>0</td>\n",
       "      <td>0</td>\n",
       "      <td>0</td>\n",
       "      <td>0</td>\n",
       "      <td>8</td>\n",
       "    </tr>\n",
       "  </tbody>\n",
       "</table>\n",
       "<p>5 rows × 126 columns</p>\n",
       "</div>"
      ],
      "text/plain": [
       "   Product_Info_1  Product_Info_3  Product_Info_4  Product_Info_5  \\\n",
       "0               1              10        0.076923               2   \n",
       "1               1              26        0.076923               2   \n",
       "2               1              26        0.076923               2   \n",
       "3               1              10        0.487179               2   \n",
       "4               1              26        0.230769               2   \n",
       "\n",
       "   Product_Info_6  Product_Info_7   Ins_Age        Ht        Wt       BMI  \\\n",
       "0               1               1  0.641791  0.581818  0.148536  0.323008   \n",
       "1               3               1  0.059701  0.600000  0.131799  0.272288   \n",
       "2               3               1  0.029851  0.745455  0.288703  0.428780   \n",
       "3               3               1  0.164179  0.672727  0.205021  0.352438   \n",
       "4               3               1  0.417910  0.654545  0.234310  0.424046   \n",
       "\n",
       "   ...  Medical_Keyword_40  Medical_Keyword_41  Medical_Keyword_42  \\\n",
       "0  ...                   0                   0                   0   \n",
       "1  ...                   0                   0                   0   \n",
       "2  ...                   0                   0                   0   \n",
       "3  ...                   0                   0                   0   \n",
       "4  ...                   0                   0                   0   \n",
       "\n",
       "   Medical_Keyword_43  Medical_Keyword_44  Medical_Keyword_45  \\\n",
       "0                   0                   0                   0   \n",
       "1                   0                   0                   0   \n",
       "2                   0                   0                   0   \n",
       "3                   0                   0                   0   \n",
       "4                   0                   0                   0   \n",
       "\n",
       "   Medical_Keyword_46  Medical_Keyword_47  Medical_Keyword_48  Response  \n",
       "0                   0                   0                   0         8  \n",
       "1                   0                   0                   0         4  \n",
       "2                   0                   0                   0         8  \n",
       "3                   0                   0                   0         8  \n",
       "4                   0                   0                   0         8  \n",
       "\n",
       "[5 rows x 126 columns]"
      ]
     },
     "execution_count": 61,
     "metadata": {},
     "output_type": "execute_result"
    }
   ],
   "source": [
    "#import data\n",
    "data_df= pd.read_csv('train1.csv')\n",
    "data_df.head()\n"
   ]
  },
  {
   "cell_type": "code",
   "execution_count": 62,
   "metadata": {},
   "outputs": [
    {
     "data": {
      "text/plain": [
       "(59255, 126)"
      ]
     },
     "execution_count": 62,
     "metadata": {},
     "output_type": "execute_result"
    }
   ],
   "source": [
    "data_df.shape"
   ]
  },
  {
   "cell_type": "code",
   "execution_count": 63,
   "metadata": {},
   "outputs": [
    {
     "data": {
      "text/plain": [
       "array(['Product_Info_1', 'Product_Info_3', 'Product_Info_4',\n",
       "       'Product_Info_5', 'Product_Info_6', 'Product_Info_7', 'Ins_Age',\n",
       "       'Ht', 'Wt', 'BMI', 'Employment_Info_1', 'Employment_Info_2',\n",
       "       'Employment_Info_3', 'Employment_Info_4', 'Employment_Info_5',\n",
       "       'Employment_Info_6', 'InsuredInfo_1', 'InsuredInfo_2',\n",
       "       'InsuredInfo_3', 'InsuredInfo_4', 'InsuredInfo_5', 'InsuredInfo_6',\n",
       "       'InsuredInfo_7', 'Insurance_History_1', 'Insurance_History_2',\n",
       "       'Insurance_History_3', 'Insurance_History_4',\n",
       "       'Insurance_History_5', 'Insurance_History_7',\n",
       "       'Insurance_History_8', 'Insurance_History_9', 'Family_Hist_1',\n",
       "       'Family_Hist_2', 'Family_Hist_3', 'Family_Hist_4', 'Family_Hist_5',\n",
       "       'Medical_History_1', 'Medical_History_2', 'Medical_History_3',\n",
       "       'Medical_History_4', 'Medical_History_5', 'Medical_History_6',\n",
       "       'Medical_History_7', 'Medical_History_8', 'Medical_History_9',\n",
       "       'Medical_History_10', 'Medical_History_11', 'Medical_History_12',\n",
       "       'Medical_History_13', 'Medical_History_14', 'Medical_History_15',\n",
       "       'Medical_History_16', 'Medical_History_17', 'Medical_History_18',\n",
       "       'Medical_History_19', 'Medical_History_20', 'Medical_History_21',\n",
       "       'Medical_History_22', 'Medical_History_23', 'Medical_History_24',\n",
       "       'Medical_History_25', 'Medical_History_26', 'Medical_History_27',\n",
       "       'Medical_History_28', 'Medical_History_29', 'Medical_History_30',\n",
       "       'Medical_History_31', 'Medical_History_32', 'Medical_History_33',\n",
       "       'Medical_History_34', 'Medical_History_35', 'Medical_History_36',\n",
       "       'Medical_History_37', 'Medical_History_38', 'Medical_History_39',\n",
       "       'Medical_History_40', 'Medical_History_41', 'Medical_Keyword_1',\n",
       "       'Medical_Keyword_2', 'Medical_Keyword_3', 'Medical_Keyword_4',\n",
       "       'Medical_Keyword_5', 'Medical_Keyword_6', 'Medical_Keyword_7',\n",
       "       'Medical_Keyword_8', 'Medical_Keyword_9', 'Medical_Keyword_10',\n",
       "       'Medical_Keyword_11', 'Medical_Keyword_12', 'Medical_Keyword_13',\n",
       "       'Medical_Keyword_14', 'Medical_Keyword_15', 'Medical_Keyword_16',\n",
       "       'Medical_Keyword_17', 'Medical_Keyword_18', 'Medical_Keyword_19',\n",
       "       'Medical_Keyword_20', 'Medical_Keyword_21', 'Medical_Keyword_22',\n",
       "       'Medical_Keyword_23', 'Medical_Keyword_24', 'Medical_Keyword_25',\n",
       "       'Medical_Keyword_26', 'Medical_Keyword_27', 'Medical_Keyword_28',\n",
       "       'Medical_Keyword_29', 'Medical_Keyword_30', 'Medical_Keyword_31',\n",
       "       'Medical_Keyword_32', 'Medical_Keyword_33', 'Medical_Keyword_34',\n",
       "       'Medical_Keyword_35', 'Medical_Keyword_36', 'Medical_Keyword_37',\n",
       "       'Medical_Keyword_38', 'Medical_Keyword_39', 'Medical_Keyword_40',\n",
       "       'Medical_Keyword_41', 'Medical_Keyword_42', 'Medical_Keyword_43',\n",
       "       'Medical_Keyword_44', 'Medical_Keyword_45', 'Medical_Keyword_46',\n",
       "       'Medical_Keyword_47', 'Medical_Keyword_48', 'Response'],\n",
       "      dtype=object)"
      ]
     },
     "execution_count": 63,
     "metadata": {},
     "output_type": "execute_result"
    }
   ],
   "source": [
    "data_df.columns.values"
   ]
  },
  {
   "cell_type": "code",
   "execution_count": 64,
   "metadata": {},
   "outputs": [],
   "source": [
    "#data_df=data_df.drop(labels='Id',axis=1)"
   ]
  },
  {
   "cell_type": "code",
   "execution_count": 65,
   "metadata": {},
   "outputs": [
    {
     "data": {
      "text/plain": [
       "8    19433\n",
       "6    11211\n",
       "7     8005\n",
       "2     6545\n",
       "1     6200\n",
       "5     5424\n",
       "4     1425\n",
       "3     1012\n",
       "Name: Response, dtype: int64"
      ]
     },
     "execution_count": 65,
     "metadata": {},
     "output_type": "execute_result"
    }
   ],
   "source": [
    "data_df['Response'].value_counts()"
   ]
  },
  {
   "cell_type": "code",
   "execution_count": 66,
   "metadata": {},
   "outputs": [
    {
     "data": {
      "text/plain": [
       "<AxesSubplot:xlabel='Response', ylabel='count'>"
      ]
     },
     "execution_count": 66,
     "metadata": {},
     "output_type": "execute_result"
    },
    {
     "data": {
      "image/png": "[encoded data removed]",
      "text/plain": [
       "<Figure size 432x288 with 1 Axes>"
      ]
     },
     "metadata": {
      "needs_background": "light"
     },
     "output_type": "display_data"
    }
   ],
   "source": [
    "#churn plot\n",
    "sns.countplot(x=data_df['Response'])"
   ]
  },
  {
   "cell_type": "code",
   "execution_count": 67,
   "metadata": {},
   "outputs": [
    {
     "data": {
      "text/plain": [
       "<AxesSubplot:xlabel='Modified_Response', ylabel='count'>"
      ]
     },
     "execution_count": 67,
     "metadata": {},
     "output_type": "execute_result"
    },
    {
     "data": {
      "image/png": "[encoded data removed]",
      "text/plain": [
       "<Figure size 432x288 with 1 Axes>"
      ]
     },
     "metadata": {
      "needs_background": "light"
     },
     "output_type": "display_data"
    }
   ],
   "source": [
    "data_df['Modified_Response']  = data_df['Response'].apply(lambda x : 0 if x<=7 and x>=0 else (1 if x==8 else -1))\n",
    "sns.countplot(x= data_df['Modified_Response'])\n"
   ]
  },
  {
   "cell_type": "code",
   "execution_count": 68,
   "metadata": {},
   "outputs": [
    {
     "data": {
      "text/plain": [
       "0    39822\n",
       "1    19433\n",
       "Name: Modified_Response, dtype: int64"
      ]
     },
     "execution_count": 68,
     "metadata": {},
     "output_type": "execute_result"
    }
   ],
   "source": [
    "data_df['Modified_Response'].value_counts()"
   ]
  },
  {
   "cell_type": "code",
   "execution_count": 69,
   "metadata": {},
   "outputs": [
    {
     "data": {
      "text/html": [
       "<div>\n",
       "<style scoped>\n",
       "    .dataframe tbody tr th:only-of-type {\n",
       "        vertical-align: middle;\n",
       "    }\n",
       "\n",
       "    .dataframe tbody tr th {\n",
       "        vertical-align: top;\n",
       "    }\n",
       "\n",
       "    .dataframe thead th {\n",
       "        text-align: right;\n",
       "    }\n",
       "</style>\n",
       "<table border=\"1\" class=\"dataframe\">\n",
       "  <thead>\n",
       "    <tr style=\"text-align: right;\">\n",
       "      <th></th>\n",
       "      <th>Product_Info_1</th>\n",
       "      <th>Product_Info_3</th>\n",
       "      <th>Product_Info_4</th>\n",
       "      <th>Product_Info_5</th>\n",
       "      <th>Product_Info_6</th>\n",
       "      <th>Product_Info_7</th>\n",
       "      <th>Ins_Age</th>\n",
       "      <th>Ht</th>\n",
       "      <th>Wt</th>\n",
       "      <th>BMI</th>\n",
       "      <th>...</th>\n",
       "      <th>Medical_Keyword_41</th>\n",
       "      <th>Medical_Keyword_42</th>\n",
       "      <th>Medical_Keyword_43</th>\n",
       "      <th>Medical_Keyword_44</th>\n",
       "      <th>Medical_Keyword_45</th>\n",
       "      <th>Medical_Keyword_46</th>\n",
       "      <th>Medical_Keyword_47</th>\n",
       "      <th>Medical_Keyword_48</th>\n",
       "      <th>Response</th>\n",
       "      <th>Modified_Response</th>\n",
       "    </tr>\n",
       "  </thead>\n",
       "  <tbody>\n",
       "    <tr>\n",
       "      <th>Product_Info_1</th>\n",
       "      <td>1.0</td>\n",
       "      <td>NaN</td>\n",
       "      <td>NaN</td>\n",
       "      <td>NaN</td>\n",
       "      <td>NaN</td>\n",
       "      <td>NaN</td>\n",
       "      <td>NaN</td>\n",
       "      <td>NaN</td>\n",
       "      <td>NaN</td>\n",
       "      <td>NaN</td>\n",
       "      <td>...</td>\n",
       "      <td>NaN</td>\n",
       "      <td>NaN</td>\n",
       "      <td>NaN</td>\n",
       "      <td>NaN</td>\n",
       "      <td>NaN</td>\n",
       "      <td>NaN</td>\n",
       "      <td>NaN</td>\n",
       "      <td>NaN</td>\n",
       "      <td>NaN</td>\n",
       "      <td>NaN</td>\n",
       "    </tr>\n",
       "    <tr>\n",
       "      <th>Product_Info_3</th>\n",
       "      <td>NaN</td>\n",
       "      <td>1.0</td>\n",
       "      <td>NaN</td>\n",
       "      <td>NaN</td>\n",
       "      <td>NaN</td>\n",
       "      <td>NaN</td>\n",
       "      <td>NaN</td>\n",
       "      <td>NaN</td>\n",
       "      <td>NaN</td>\n",
       "      <td>NaN</td>\n",
       "      <td>...</td>\n",
       "      <td>NaN</td>\n",
       "      <td>NaN</td>\n",
       "      <td>NaN</td>\n",
       "      <td>NaN</td>\n",
       "      <td>NaN</td>\n",
       "      <td>NaN</td>\n",
       "      <td>NaN</td>\n",
       "      <td>NaN</td>\n",
       "      <td>NaN</td>\n",
       "      <td>NaN</td>\n",
       "    </tr>\n",
       "    <tr>\n",
       "      <th>Product_Info_4</th>\n",
       "      <td>NaN</td>\n",
       "      <td>NaN</td>\n",
       "      <td>1.0</td>\n",
       "      <td>NaN</td>\n",
       "      <td>NaN</td>\n",
       "      <td>NaN</td>\n",
       "      <td>NaN</td>\n",
       "      <td>NaN</td>\n",
       "      <td>NaN</td>\n",
       "      <td>NaN</td>\n",
       "      <td>...</td>\n",
       "      <td>NaN</td>\n",
       "      <td>NaN</td>\n",
       "      <td>NaN</td>\n",
       "      <td>NaN</td>\n",
       "      <td>NaN</td>\n",
       "      <td>NaN</td>\n",
       "      <td>NaN</td>\n",
       "      <td>NaN</td>\n",
       "      <td>NaN</td>\n",
       "      <td>NaN</td>\n",
       "    </tr>\n",
       "    <tr>\n",
       "      <th>Product_Info_5</th>\n",
       "      <td>NaN</td>\n",
       "      <td>NaN</td>\n",
       "      <td>NaN</td>\n",
       "      <td>1.0</td>\n",
       "      <td>NaN</td>\n",
       "      <td>NaN</td>\n",
       "      <td>NaN</td>\n",
       "      <td>NaN</td>\n",
       "      <td>NaN</td>\n",
       "      <td>NaN</td>\n",
       "      <td>...</td>\n",
       "      <td>NaN</td>\n",
       "      <td>NaN</td>\n",
       "      <td>NaN</td>\n",
       "      <td>NaN</td>\n",
       "      <td>NaN</td>\n",
       "      <td>NaN</td>\n",
       "      <td>NaN</td>\n",
       "      <td>NaN</td>\n",
       "      <td>NaN</td>\n",
       "      <td>NaN</td>\n",
       "    </tr>\n",
       "    <tr>\n",
       "      <th>Product_Info_6</th>\n",
       "      <td>NaN</td>\n",
       "      <td>NaN</td>\n",
       "      <td>NaN</td>\n",
       "      <td>NaN</td>\n",
       "      <td>1.0</td>\n",
       "      <td>NaN</td>\n",
       "      <td>NaN</td>\n",
       "      <td>NaN</td>\n",
       "      <td>NaN</td>\n",
       "      <td>NaN</td>\n",
       "      <td>...</td>\n",
       "      <td>NaN</td>\n",
       "      <td>NaN</td>\n",
       "      <td>NaN</td>\n",
       "      <td>NaN</td>\n",
       "      <td>NaN</td>\n",
       "      <td>NaN</td>\n",
       "      <td>NaN</td>\n",
       "      <td>NaN</td>\n",
       "      <td>NaN</td>\n",
       "      <td>NaN</td>\n",
       "    </tr>\n",
       "    <tr>\n",
       "      <th>...</th>\n",
       "      <td>...</td>\n",
       "      <td>...</td>\n",
       "      <td>...</td>\n",
       "      <td>...</td>\n",
       "      <td>...</td>\n",
       "      <td>...</td>\n",
       "      <td>...</td>\n",
       "      <td>...</td>\n",
       "      <td>...</td>\n",
       "      <td>...</td>\n",
       "      <td>...</td>\n",
       "      <td>...</td>\n",
       "      <td>...</td>\n",
       "      <td>...</td>\n",
       "      <td>...</td>\n",
       "      <td>...</td>\n",
       "      <td>...</td>\n",
       "      <td>...</td>\n",
       "      <td>...</td>\n",
       "      <td>...</td>\n",
       "      <td>...</td>\n",
       "    </tr>\n",
       "    <tr>\n",
       "      <th>Medical_Keyword_46</th>\n",
       "      <td>NaN</td>\n",
       "      <td>NaN</td>\n",
       "      <td>NaN</td>\n",
       "      <td>NaN</td>\n",
       "      <td>NaN</td>\n",
       "      <td>NaN</td>\n",
       "      <td>NaN</td>\n",
       "      <td>NaN</td>\n",
       "      <td>NaN</td>\n",
       "      <td>NaN</td>\n",
       "      <td>...</td>\n",
       "      <td>NaN</td>\n",
       "      <td>NaN</td>\n",
       "      <td>NaN</td>\n",
       "      <td>NaN</td>\n",
       "      <td>NaN</td>\n",
       "      <td>1.0</td>\n",
       "      <td>NaN</td>\n",
       "      <td>NaN</td>\n",
       "      <td>NaN</td>\n",
       "      <td>NaN</td>\n",
       "    </tr>\n",
       "    <tr>\n",
       "      <th>Medical_Keyword_47</th>\n",
       "      <td>NaN</td>\n",
       "      <td>NaN</td>\n",
       "      <td>NaN</td>\n",
       "      <td>NaN</td>\n",
       "      <td>NaN</td>\n",
       "      <td>NaN</td>\n",
       "      <td>NaN</td>\n",
       "      <td>NaN</td>\n",
       "      <td>NaN</td>\n",
       "      <td>NaN</td>\n",
       "      <td>...</td>\n",
       "      <td>NaN</td>\n",
       "      <td>NaN</td>\n",
       "      <td>NaN</td>\n",
       "      <td>NaN</td>\n",
       "      <td>NaN</td>\n",
       "      <td>NaN</td>\n",
       "      <td>1.0</td>\n",
       "      <td>NaN</td>\n",
       "      <td>NaN</td>\n",
       "      <td>NaN</td>\n",
       "    </tr>\n",
       "    <tr>\n",
       "      <th>Medical_Keyword_48</th>\n",
       "      <td>NaN</td>\n",
       "      <td>NaN</td>\n",
       "      <td>NaN</td>\n",
       "      <td>NaN</td>\n",
       "      <td>NaN</td>\n",
       "      <td>NaN</td>\n",
       "      <td>NaN</td>\n",
       "      <td>NaN</td>\n",
       "      <td>NaN</td>\n",
       "      <td>NaN</td>\n",
       "      <td>...</td>\n",
       "      <td>NaN</td>\n",
       "      <td>NaN</td>\n",
       "      <td>NaN</td>\n",
       "      <td>NaN</td>\n",
       "      <td>NaN</td>\n",
       "      <td>NaN</td>\n",
       "      <td>NaN</td>\n",
       "      <td>1.0</td>\n",
       "      <td>NaN</td>\n",
       "      <td>NaN</td>\n",
       "    </tr>\n",
       "    <tr>\n",
       "      <th>Response</th>\n",
       "      <td>NaN</td>\n",
       "      <td>NaN</td>\n",
       "      <td>NaN</td>\n",
       "      <td>NaN</td>\n",
       "      <td>NaN</td>\n",
       "      <td>NaN</td>\n",
       "      <td>NaN</td>\n",
       "      <td>NaN</td>\n",
       "      <td>NaN</td>\n",
       "      <td>NaN</td>\n",
       "      <td>...</td>\n",
       "      <td>NaN</td>\n",
       "      <td>NaN</td>\n",
       "      <td>NaN</td>\n",
       "      <td>NaN</td>\n",
       "      <td>NaN</td>\n",
       "      <td>NaN</td>\n",
       "      <td>NaN</td>\n",
       "      <td>NaN</td>\n",
       "      <td>1.0</td>\n",
       "      <td>NaN</td>\n",
       "    </tr>\n",
       "    <tr>\n",
       "      <th>Modified_Response</th>\n",
       "      <td>NaN</td>\n",
       "      <td>NaN</td>\n",
       "      <td>NaN</td>\n",
       "      <td>NaN</td>\n",
       "      <td>NaN</td>\n",
       "      <td>NaN</td>\n",
       "      <td>NaN</td>\n",
       "      <td>NaN</td>\n",
       "      <td>NaN</td>\n",
       "      <td>NaN</td>\n",
       "      <td>...</td>\n",
       "      <td>NaN</td>\n",
       "      <td>NaN</td>\n",
       "      <td>NaN</td>\n",
       "      <td>NaN</td>\n",
       "      <td>NaN</td>\n",
       "      <td>NaN</td>\n",
       "      <td>NaN</td>\n",
       "      <td>NaN</td>\n",
       "      <td>NaN</td>\n",
       "      <td>1.0</td>\n",
       "    </tr>\n",
       "  </tbody>\n",
       "</table>\n",
       "<p>127 rows × 127 columns</p>\n",
       "</div>"
      ],
      "text/plain": [
       "                    Product_Info_1  Product_Info_3  Product_Info_4  \\\n",
       "Product_Info_1                 1.0             NaN             NaN   \n",
       "Product_Info_3                 NaN             1.0             NaN   \n",
       "Product_Info_4                 NaN             NaN             1.0   \n",
       "Product_Info_5                 NaN             NaN             NaN   \n",
       "Product_Info_6                 NaN             NaN             NaN   \n",
       "...                            ...             ...             ...   \n",
       "Medical_Keyword_46             NaN             NaN             NaN   \n",
       "Medical_Keyword_47             NaN             NaN             NaN   \n",
       "Medical_Keyword_48             NaN             NaN             NaN   \n",
       "Response                       NaN             NaN             NaN   \n",
       "Modified_Response              NaN             NaN             NaN   \n",
       "\n",
       "                    Product_Info_5  Product_Info_6  Product_Info_7  Ins_Age  \\\n",
       "Product_Info_1                 NaN             NaN             NaN      NaN   \n",
       "Product_Info_3                 NaN             NaN             NaN      NaN   \n",
       "Product_Info_4                 NaN             NaN             NaN      NaN   \n",
       "Product_Info_5                 1.0             NaN             NaN      NaN   \n",
       "Product_Info_6                 NaN             1.0             NaN      NaN   \n",
       "...                            ...             ...             ...      ...   \n",
       "Medical_Keyword_46             NaN             NaN             NaN      NaN   \n",
       "Medical_Keyword_47             NaN             NaN             NaN      NaN   \n",
       "Medical_Keyword_48             NaN             NaN             NaN      NaN   \n",
       "Response                       NaN             NaN             NaN      NaN   \n",
       "Modified_Response              NaN             NaN             NaN      NaN   \n",
       "\n",
       "                    Ht  Wt  BMI  ...  Medical_Keyword_41  Medical_Keyword_42  \\\n",
       "Product_Info_1     NaN NaN  NaN  ...                 NaN                 NaN   \n",
       "Product_Info_3     NaN NaN  NaN  ...                 NaN                 NaN   \n",
       "Product_Info_4     NaN NaN  NaN  ...                 NaN                 NaN   \n",
       "Product_Info_5     NaN NaN  NaN  ...                 NaN                 NaN   \n",
       "Product_Info_6     NaN NaN  NaN  ...                 NaN                 NaN   \n",
       "...                 ..  ..  ...  ...                 ...                 ...   \n",
       "Medical_Keyword_46 NaN NaN  NaN  ...                 NaN                 NaN   \n",
       "Medical_Keyword_47 NaN NaN  NaN  ...                 NaN                 NaN   \n",
       "Medical_Keyword_48 NaN NaN  NaN  ...                 NaN                 NaN   \n",
       "Response           NaN NaN  NaN  ...                 NaN                 NaN   \n",
       "Modified_Response  NaN NaN  NaN  ...                 NaN                 NaN   \n",
       "\n",
       "                    Medical_Keyword_43  Medical_Keyword_44  \\\n",
       "Product_Info_1                     NaN                 NaN   \n",
       "Product_Info_3                     NaN                 NaN   \n",
       "Product_Info_4                     NaN                 NaN   \n",
       "Product_Info_5                     NaN                 NaN   \n",
       "Product_Info_6                     NaN                 NaN   \n",
       "...                                ...                 ...   \n",
       "Medical_Keyword_46                 NaN                 NaN   \n",
       "Medical_Keyword_47                 NaN                 NaN   \n",
       "Medical_Keyword_48                 NaN                 NaN   \n",
       "Response                           NaN                 NaN   \n",
       "Modified_Response                  NaN                 NaN   \n",
       "\n",
       "                    Medical_Keyword_45  Medical_Keyword_46  \\\n",
       "Product_Info_1                     NaN                 NaN   \n",
       "Product_Info_3                     NaN                 NaN   \n",
       "Product_Info_4                     NaN                 NaN   \n",
       "Product_Info_5                     NaN                 NaN   \n",
       "Product_Info_6                     NaN                 NaN   \n",
       "...                                ...                 ...   \n",
       "Medical_Keyword_46                 NaN                 1.0   \n",
       "Medical_Keyword_47                 NaN                 NaN   \n",
       "Medical_Keyword_48                 NaN                 NaN   \n",
       "Response                           NaN                 NaN   \n",
       "Modified_Response                  NaN                 NaN   \n",
       "\n",
       "                    Medical_Keyword_47  Medical_Keyword_48  Response  \\\n",
       "Product_Info_1                     NaN                 NaN       NaN   \n",
       "Product_Info_3                     NaN                 NaN       NaN   \n",
       "Product_Info_4                     NaN                 NaN       NaN   \n",
       "Product_Info_5                     NaN                 NaN       NaN   \n",
       "Product_Info_6                     NaN                 NaN       NaN   \n",
       "...                                ...                 ...       ...   \n",
       "Medical_Keyword_46                 NaN                 NaN       NaN   \n",
       "Medical_Keyword_47                 1.0                 NaN       NaN   \n",
       "Medical_Keyword_48                 NaN                 1.0       NaN   \n",
       "Response                           NaN                 NaN       1.0   \n",
       "Modified_Response                  NaN                 NaN       NaN   \n",
       "\n",
       "                    Modified_Response  \n",
       "Product_Info_1                    NaN  \n",
       "Product_Info_3                    NaN  \n",
       "Product_Info_4                    NaN  \n",
       "Product_Info_5                    NaN  \n",
       "Product_Info_6                    NaN  \n",
       "...                               ...  \n",
       "Medical_Keyword_46                NaN  \n",
       "Medical_Keyword_47                NaN  \n",
       "Medical_Keyword_48                NaN  \n",
       "Response                          NaN  \n",
       "Modified_Response                 1.0  \n",
       "\n",
       "[127 rows x 127 columns]"
      ]
     },
     "execution_count": 69,
     "metadata": {},
     "output_type": "execute_result"
    }
   ],
   "source": [
    "# I just checked correlated feature with greater than .8 here \n",
    "corr = data_df.corr()\n",
    "corr_greater_than_80 = corr[corr>=.8]\n",
    "corr_greater_than_80"
   ]
  },
  {
   "cell_type": "code",
   "execution_count": 70,
   "metadata": {},
   "outputs": [
    {
     "data": {
      "image/png": "[encoded data removed]",
      "text/plain": [
       "<Figure size 864x576 with 2 Axes>"
      ]
     },
     "metadata": {
      "needs_background": "light"
     },
     "output_type": "display_data"
    }
   ],
   "source": [
    "plt.figure(figsize=(12,8))\n",
    "sns.heatmap(corr_greater_than_80, cmap=\"Reds\");"
   ]
  },
  {
   "cell_type": "code",
   "execution_count": 71,
   "metadata": {},
   "outputs": [],
   "source": [
    "#no need for changes as they don't get affected by correlation much because of their non parametric nature"
   ]
  },
  {
   "cell_type": "code",
   "execution_count": 72,
   "metadata": {},
   "outputs": [],
   "source": [
    "# Dropping old response columns\n",
    "data_df.drop('Response',axis = 1, inplace=True)"
   ]
  },
  {
   "cell_type": "code",
   "execution_count": 73,
   "metadata": {},
   "outputs": [
    {
     "name": "stdout",
     "output_type": "stream",
     "text": [
      "Medical_History_10     0.990600\n",
      "Medical_History_32     0.981335\n",
      "Medical_History_24     0.935955\n",
      "Medical_History_15     0.750823\n",
      "Family_Hist_5          0.703957\n",
      "Family_Hist_3          0.576356\n",
      "Family_Hist_2          0.482879\n",
      "Insurance_History_5    0.427677\n",
      "dtype: float64\n"
     ]
    }
   ],
   "source": [
    "missing_val_count_by_column = data_df.isna().sum()/len(data_df)\n",
    "\n",
    "print(missing_val_count_by_column[missing_val_count_by_column > 0.4].sort_values(ascending=False))"
   ]
  },
  {
   "cell_type": "code",
   "execution_count": 74,
   "metadata": {},
   "outputs": [],
   "source": [
    "#drop data contain >=40% of null data\n",
    "data_df = data_df.dropna(thresh=data_df.shape[0]*0.4,how='all',axis=1)"
   ]
  },
  {
   "cell_type": "code",
   "execution_count": 75,
   "metadata": {},
   "outputs": [],
   "source": [
    "#drop product_info_2 does not give out important information \n",
    "#data_df.drop('Product_Info_2',axis=1,inplace=True)"
   ]
  },
  {
   "cell_type": "code",
   "execution_count": 76,
   "metadata": {},
   "outputs": [],
   "source": [
    "#fill out missing value\n",
    "data_df= data_df.fillna(data_df.mean())"
   ]
  },
  {
   "cell_type": "code",
   "execution_count": 77,
   "metadata": {},
   "outputs": [
    {
     "name": "stdout",
     "output_type": "stream",
     "text": [
      "[[ 1.         10.          0.07692308 ...  0.          0.\n",
      "   1.        ]\n",
      " [ 1.         26.          0.07692308 ...  0.          0.\n",
      "   0.        ]\n",
      " [ 1.         26.          0.07692308 ...  0.          0.\n",
      "   1.        ]\n",
      " ...\n",
      " [ 1.         26.          0.07692308 ...  0.          0.\n",
      "   1.        ]\n",
      " [ 1.         10.          0.23076923 ...  0.          0.\n",
      "   1.        ]\n",
      " [ 1.         26.          0.07692308 ...  0.          0.\n",
      "   0.        ]]\n"
     ]
    }
   ],
   "source": [
    "data_np=data_df.to_numpy(dtype=float)\n",
    "print(data_np)"
   ]
  },
  {
   "cell_type": "code",
   "execution_count": 78,
   "metadata": {},
   "outputs": [],
   "source": [
    "#split data and train test split\n",
    "X= data_np[:,:-1]\n",
    "Y=data_np[:,-1]\n",
    "X_train, X_test, Y_train, Y_test = train_test_split(X, Y, test_size=.25, random_state=1)\n"
   ]
  },
  {
   "cell_type": "code",
   "execution_count": 79,
   "metadata": {},
   "outputs": [
    {
     "data": {
      "text/plain": [
       "(14814, 120)"
      ]
     },
     "execution_count": 79,
     "metadata": {},
     "output_type": "execute_result"
    }
   ],
   "source": [
    "np.shape(X_test)"
   ]
  },
  {
   "cell_type": "code",
   "execution_count": 80,
   "metadata": {},
   "outputs": [
    {
     "data": {
      "text/plain": [
       "(14814,)"
      ]
     },
     "execution_count": 80,
     "metadata": {},
     "output_type": "execute_result"
    }
   ],
   "source": [
    "np.shape(Y_test)"
   ]
  },
  {
   "cell_type": "code",
   "execution_count": 81,
   "metadata": {},
   "outputs": [],
   "source": [
    "def check_scores(model, X_train, X_test):\n",
    "  # Making predictions on train and test data\n",
    "\n",
    "  train_class_preds = model.predict(X_train)\n",
    "  test_class_preds = model.predict(X_test)\n",
    "\n",
    "\n",
    "  # Get the probabilities on train and test\n",
    "  train_preds = model.predict_proba(X_train)[:,1]\n",
    "  test_preds = model.predict_proba(X_test)[:,1]\n",
    "\n",
    "\n",
    "  # Calculating accuracy on train and test\n",
    "  train_accuracy = accuracy_score(Y_train,train_class_preds)\n",
    "  test_accuracy = accuracy_score(Y_test,test_class_preds)\n",
    "\n",
    "  print(\"The accuracy on train dataset is\", train_accuracy)\n",
    "  print(\"The accuracy on test dataset is\", test_accuracy)\n",
    "  print()\n",
    "  # Get the confusion matrices for train and test\n",
    "  train_cm = confusion_matrix(Y_train,train_class_preds)\n",
    "  test_cm = confusion_matrix(Y_test,test_class_preds )\n",
    "\n",
    "  print('Train confusion matrix:')\n",
    "  print( train_cm)\n",
    "  print()\n",
    "  print('Test confusion matrix:')\n",
    "  print(test_cm)\n",
    "  print()\n",
    "\n",
    "  # Get the roc_auc score for train and test dataset\n",
    "  train_auc = roc_auc_score(Y_train,train_preds)\n",
    "  test_auc = roc_auc_score(Y_test,test_preds)\n",
    "\n",
    "  print('ROC on train data:', train_auc)\n",
    "  print('ROC on test data:', test_auc)\n",
    "  \n",
    "  # Fscore, precision and recall on test data\n",
    "  f1 = f1_score(Y_test, test_class_preds)\n",
    "  precision = precision_score(Y_test, test_class_preds)\n",
    "  recall = recall_score(Y_test, test_class_preds) \n",
    "  \n",
    "  \n",
    "  #R2 score on train and test data\n",
    "  train_log = log_loss(Y_train,train_preds)\n",
    "  test_log = log_loss(Y_test, test_preds)\n",
    "\n",
    "  print()\n",
    "  print('Train log loss:', train_log)\n",
    "  print('Test log loss:', test_log)\n",
    "  print()\n",
    "  print(\"F score is:\",f1 )\n",
    "  print(\"Precision is:\",precision)\n",
    "  print(\"Recall is:\", recall)\n",
    "\n"
   ]
  },
  {
   "cell_type": "code",
   "execution_count": 82,
   "metadata": {},
   "outputs": [],
   "source": [
    "#grid search\n",
    "def grid_search(model, parameters, X_train, Y_train):\n",
    "      #Doing a grid\n",
    "  grid = GridSearchCV(estimator=model,\n",
    "                       param_grid = parameters,\n",
    "                       cv = 2, verbose=3, scoring='roc_auc')\n",
    "  #Fitting the grid \n",
    "  grid.fit(X_train,Y_train)\n",
    "  print()\n",
    "  print()\n",
    "  # Best model found using grid search\n",
    "  optimal_model = grid.best_estimator_\n",
    "  print('Best parameters are: ')\n",
    "  print( grid.best_params_)\n",
    "\n",
    "  return optimal_model\n"
   ]
  },
  {
   "cell_type": "code",
   "execution_count": 83,
   "metadata": {},
   "outputs": [],
   "source": [
    "#Multi layer perceptron (Neural network)\n",
    "mlp=MLPClassifier(random_state=0).fit(X_train, Y_train)\n",
    "X_test_1d=mlp.predict(X_test)"
   ]
  },
  {
   "cell_type": "code",
   "execution_count": 84,
   "metadata": {},
   "outputs": [
    {
     "name": "stdout",
     "output_type": "stream",
     "text": [
      "              precision    recall  f1-score   support\n",
      "\n",
      "         0.0       0.89      0.80      0.84      9992\n",
      "         1.0       0.65      0.80      0.72      4822\n",
      "\n",
      "    accuracy                           0.80     14814\n",
      "   macro avg       0.77      0.80      0.78     14814\n",
      "weighted avg       0.81      0.80      0.80     14814\n",
      "\n"
     ]
    },
    {
     "data": {
      "text/plain": [
       "0.7970838396111786"
      ]
     },
     "execution_count": 84,
     "metadata": {},
     "output_type": "execute_result"
    }
   ],
   "source": [
    "print(classification_report(Y_test,X_test_1d))\n",
    "accuracy_score(X_test_1d,Y_test)\n"
   ]
  },
  {
   "cell_type": "code",
   "execution_count": 85,
   "metadata": {},
   "outputs": [
    {
     "name": "stdout",
     "output_type": "stream",
     "text": [
      "The accuracy on train dataset is 0.8057874485272608\n",
      "The accuracy on test dataset is 0.7970838396111786\n",
      "\n",
      "Train confusion matrix:\n",
      "[[23928  5902]\n",
      " [ 2729 11882]]\n",
      "\n",
      "Test confusion matrix:\n",
      "[[7964 2028]\n",
      " [ 978 3844]]\n",
      "\n",
      "ROC on train data: 0.8871892231783726\n",
      "ROC on test data: 0.8783095327361017\n",
      "\n",
      "Train log loss: 0.40778921201308804\n",
      "Test log loss: 0.4209994006672353\n",
      "\n",
      "F score is: 0.7189077987656631\n",
      "Precision is: 0.6546321525885559\n",
      "Recall is: 0.7971795935296557\n"
     ]
    }
   ],
   "source": [
    "check_scores(mlp,X_train,X_test)"
   ]
  },
  {
   "cell_type": "code",
   "execution_count": 86,
   "metadata": {},
   "outputs": [
    {
     "name": "stderr",
     "output_type": "stream",
     "text": [
      "c:\\Users\\dangh\\AppData\\Local\\Programs\\Python\\Python310\\lib\\site-packages\\sklearn\\linear_model\\_logistic.py:444: ConvergenceWarning: lbfgs failed to converge (status=1):\n",
      "STOP: TOTAL NO. of ITERATIONS REACHED LIMIT.\n",
      "\n",
      "Increase the number of iterations (max_iter) or scale the data as shown in:\n",
      "    https://scikit-learn.org/stable/modules/preprocessing.html\n",
      "Please also refer to the documentation for alternative solver options:\n",
      "    https://scikit-learn.org/stable/modules/linear_model.html#logistic-regression\n",
      "  n_iter_i = _check_optimize_result(\n"
     ]
    }
   ],
   "source": [
    "#logistic regression\n",
    "log=LogisticRegression(random_state=0).fit(X_train,Y_train)\n",
    "log_X_test_1d=log.predict(X_test)"
   ]
  },
  {
   "cell_type": "code",
   "execution_count": 87,
   "metadata": {},
   "outputs": [
    {
     "name": "stdout",
     "output_type": "stream",
     "text": [
      "              precision    recall  f1-score   support\n",
      "\n",
      "         0.0       0.80      0.85      0.82      9992\n",
      "         1.0       0.64      0.57      0.60      4822\n",
      "\n",
      "    accuracy                           0.76     14814\n",
      "   macro avg       0.72      0.71      0.71     14814\n",
      "weighted avg       0.75      0.76      0.75     14814\n",
      "\n"
     ]
    },
    {
     "data": {
      "text/plain": [
       "0.7558390711489132"
      ]
     },
     "execution_count": 87,
     "metadata": {},
     "output_type": "execute_result"
    }
   ],
   "source": [
    "print(classification_report(Y_test,log_X_test_1d))\n",
    "accuracy_score(log_X_test_1d,Y_test)"
   ]
  },
  {
   "cell_type": "code",
   "execution_count": 88,
   "metadata": {},
   "outputs": [
    {
     "name": "stdout",
     "output_type": "stream",
     "text": [
      "The accuracy on train dataset is 0.754866002115164\n",
      "The accuracy on test dataset is 0.7558390711489132\n",
      "\n",
      "Train confusion matrix:\n",
      "[[25200  4630]\n",
      " [ 6264  8347]]\n",
      "\n",
      "Test confusion matrix:\n",
      "[[8444 1548]\n",
      " [2069 2753]]\n",
      "\n",
      "ROC on train data: 0.8179795871997303\n",
      "ROC on test data: 0.8186754090124029\n",
      "\n",
      "Train log loss: 0.48358276363545794\n",
      "Test log loss: 0.4816554065246687\n",
      "\n",
      "F score is: 0.603529540721254\n",
      "Precision is: 0.6400837014647757\n",
      "Recall is: 0.57092492741601\n"
     ]
    }
   ],
   "source": [
    "check_scores(log,X_train,X_test)"
   ]
  },
  {
   "cell_type": "code",
   "execution_count": 89,
   "metadata": {},
   "outputs": [
    {
     "name": "stdout",
     "output_type": "stream",
     "text": [
      "              precision    recall  f1-score   support\n",
      "\n",
      "         0.0       0.80      0.85      0.82      9992\n",
      "         1.0       0.64      0.57      0.60      4822\n",
      "\n",
      "    accuracy                           0.76     14814\n",
      "   macro avg       0.72      0.71      0.71     14814\n",
      "weighted avg       0.75      0.76      0.75     14814\n",
      "\n"
     ]
    },
    {
     "data": {
      "text/plain": [
       "0.7558390711489132"
      ]
     },
     "execution_count": 89,
     "metadata": {},
     "output_type": "execute_result"
    }
   ],
   "source": [
    "#Random Forest (default)\n",
    "forest= RandomForestClassifier(random_state=0).fit(X_train,Y_train)\n",
    "predict_forest=log.predict(X_test)\n",
    "print(classification_report(Y_test,predict_forest))\n",
    "accuracy_score(predict_forest,Y_test)"
   ]
  },
  {
   "cell_type": "code",
   "execution_count": 90,
   "metadata": {},
   "outputs": [
    {
     "name": "stdout",
     "output_type": "stream",
     "text": [
      "The accuracy on train dataset is 0.9999774982561148\n",
      "The accuracy on test dataset is 0.8282705548805185\n",
      "\n",
      "Train confusion matrix:\n",
      "[[29830     0]\n",
      " [    1 14610]]\n",
      "\n",
      "Test confusion matrix:\n",
      "[[8854 1138]\n",
      " [1406 3416]]\n",
      "\n",
      "ROC on train data: 0.9999999942640307\n",
      "ROC on test data: 0.9017502160168616\n",
      "\n",
      "Train log loss: 0.10510480503641993\n",
      "Test log loss: 0.37481802105883166\n",
      "\n",
      "F score is: 0.7286689419795221\n",
      "Precision is: 0.7501097935880544\n",
      "Recall is: 0.7084197428452924\n"
     ]
    }
   ],
   "source": [
    "check_scores(forest,X_train,X_test)"
   ]
  },
  {
   "cell_type": "code",
   "execution_count": 91,
   "metadata": {},
   "outputs": [
    {
     "name": "stdout",
     "output_type": "stream",
     "text": [
      "Fitting 2 folds for each of 4 candidates, totalling 8 fits\n",
      "[CV 1/2] END ....max_depth=15, n_estimators=200;, score=0.896 total time=   7.0s\n",
      "[CV 2/2] END ....max_depth=15, n_estimators=200;, score=0.899 total time=   6.5s\n",
      "[CV 1/2] END ....max_depth=15, n_estimators=500;, score=0.896 total time=  14.6s\n",
      "[CV 2/2] END ....max_depth=15, n_estimators=500;, score=0.900 total time=  14.4s\n",
      "[CV 1/2] END ....max_depth=20, n_estimators=200;, score=0.898 total time=   6.7s\n",
      "[CV 2/2] END ....max_depth=20, n_estimators=200;, score=0.901 total time=   6.8s\n",
      "[CV 1/2] END ....max_depth=20, n_estimators=500;, score=0.898 total time=  16.9s\n",
      "[CV 2/2] END ....max_depth=20, n_estimators=500;, score=0.902 total time=  17.1s\n",
      "\n",
      "\n",
      "Best parameters are: \n",
      "{'max_depth': 20, 'n_estimators': 500}\n"
     ]
    }
   ],
   "source": [
    "#Random Forest (finetune/optimal)\n",
    "param_grid = { \n",
    "    'n_estimators': [200, 500],\n",
    "    'max_depth' : [15,20],\n",
    "}\n",
    "grid_forest=grid_search(RandomForestClassifier(),param_grid,X_train,Y_train)\n",
    "grid_forest_predict=grid_forest.predict(X_test)"
   ]
  },
  {
   "cell_type": "code",
   "execution_count": 92,
   "metadata": {},
   "outputs": [
    {
     "name": "stdout",
     "output_type": "stream",
     "text": [
      "              precision    recall  f1-score   support\n",
      "\n",
      "         0.0       0.87      0.88      0.87      9992\n",
      "         1.0       0.74      0.72      0.73      4822\n",
      "\n",
      "    accuracy                           0.83     14814\n",
      "   macro avg       0.80      0.80      0.80     14814\n",
      "weighted avg       0.83      0.83      0.83     14814\n",
      "\n"
     ]
    },
    {
     "data": {
      "text/plain": [
       "0.8275280140407723"
      ]
     },
     "execution_count": 92,
     "metadata": {},
     "output_type": "execute_result"
    }
   ],
   "source": [
    "print(classification_report(Y_test, grid_forest_predict))\n",
    "accuracy_score(Y_test,grid_forest_predict)"
   ]
  },
  {
   "cell_type": "code",
   "execution_count": 93,
   "metadata": {},
   "outputs": [
    {
     "name": "stdout",
     "output_type": "stream",
     "text": [
      "The accuracy on train dataset is 0.9458608042123264\n",
      "The accuracy on test dataset is 0.8275280140407723\n",
      "\n",
      "Train confusion matrix:\n",
      "[[28070  1760]\n",
      " [  646 13965]]\n",
      "\n",
      "Test confusion matrix:\n",
      "[[8778 1214]\n",
      " [1341 3481]]\n",
      "\n",
      "ROC on train data: 0.986690845459612\n",
      "ROC on test data: 0.9033595395603086\n",
      "\n",
      "Train log loss: 0.23219589884453581\n",
      "Test log loss: 0.3745793676905858\n",
      "\n",
      "F score is: 0.7315330461279814\n",
      "Precision is: 0.7414270500532482\n",
      "Recall is: 0.7218996267109083\n"
     ]
    }
   ],
   "source": [
    "check_scores(grid_forest,X_train,X_test)"
   ]
  },
  {
   "cell_type": "code",
   "execution_count": 104,
   "metadata": {},
   "outputs": [
    {
     "name": "stdout",
     "output_type": "stream",
     "text": [
      "              precision    recall  f1-score   support\n",
      "\n",
      "         0.0       0.88      0.87      0.88      9992\n",
      "         1.0       0.74      0.76      0.75      4822\n",
      "\n",
      "    accuracy                           0.83     14814\n",
      "   macro avg       0.81      0.81      0.81     14814\n",
      "weighted avg       0.83      0.83      0.83     14814\n",
      "\n"
     ]
    },
    {
     "data": {
      "text/plain": [
       "0.8334683407587418"
      ]
     },
     "execution_count": 104,
     "metadata": {},
     "output_type": "execute_result"
    }
   ],
   "source": [
    "#XGBoost model\n",
    "xgb=XGBClassifier(random_state=0).fit(X_train,Y_train)\n",
    "xgb_predict=xgb.predict(X_test)\n",
    "print(classification_report(Y_test, xgb_predict))\n",
    "accuracy_score(Y_test,xgb_predict)"
   ]
  },
  {
   "cell_type": "code",
   "execution_count": 105,
   "metadata": {},
   "outputs": [
    {
     "data": {
      "text/plain": [
       "{'objective': 'binary:logistic',\n",
       " 'use_label_encoder': False,\n",
       " 'base_score': 0.5,\n",
       " 'booster': 'gbtree',\n",
       " 'callbacks': None,\n",
       " 'colsample_bylevel': 1,\n",
       " 'colsample_bynode': 1,\n",
       " 'colsample_bytree': 1,\n",
       " 'early_stopping_rounds': None,\n",
       " 'enable_categorical': False,\n",
       " 'eval_metric': None,\n",
       " 'gamma': 0,\n",
       " 'gpu_id': -1,\n",
       " 'grow_policy': 'depthwise',\n",
       " 'importance_type': None,\n",
       " 'interaction_constraints': '',\n",
       " 'learning_rate': 0.300000012,\n",
       " 'max_bin': 256,\n",
       " 'max_cat_to_onehot': 4,\n",
       " 'max_delta_step': 0,\n",
       " 'max_depth': 6,\n",
       " 'max_leaves': 0,\n",
       " 'min_child_weight': 1,\n",
       " 'missing': nan,\n",
       " 'monotone_constraints': '()',\n",
       " 'n_estimators': 100,\n",
       " 'n_jobs': 0,\n",
       " 'num_parallel_tree': 1,\n",
       " 'predictor': 'auto',\n",
       " 'random_state': 0,\n",
       " 'reg_alpha': 0,\n",
       " 'reg_lambda': 1,\n",
       " 'sampling_method': 'uniform',\n",
       " 'scale_pos_weight': 1,\n",
       " 'subsample': 1,\n",
       " 'tree_method': 'exact',\n",
       " 'validate_parameters': 1,\n",
       " 'verbosity': None}"
      ]
     },
     "execution_count": 105,
     "metadata": {},
     "output_type": "execute_result"
    }
   ],
   "source": [
    "xgb.get_params()"
   ]
  },
  {
   "cell_type": "code",
   "execution_count": 96,
   "metadata": {},
   "outputs": [
    {
     "name": "stdout",
     "output_type": "stream",
     "text": [
      "The accuracy on train dataset is 0.879975698116604\n",
      "The accuracy on test dataset is 0.8334683407587418\n",
      "\n",
      "Train confusion matrix:\n",
      "[[26837  2993]\n",
      " [ 2341 12270]]\n",
      "\n",
      "Test confusion matrix:\n",
      "[[8694 1298]\n",
      " [1169 3653]]\n",
      "\n",
      "ROC on train data: 0.9497554515397442\n",
      "ROC on test data: 0.9071129570599658\n",
      "\n",
      "Train log loss: 0.2768403802732812\n",
      "Test log loss: 0.3573672937951125\n",
      "\n",
      "F score is: 0.7475698352604114\n",
      "Precision is: 0.7378307412643911\n",
      "Recall is: 0.7575694732476151\n"
     ]
    }
   ],
   "source": [
    "check_scores(xgb,X_train,X_test)"
   ]
  },
  {
   "cell_type": "code",
   "execution_count": 97,
   "metadata": {},
   "outputs": [
    {
     "name": "stdout",
     "output_type": "stream",
     "text": [
      "Fitting 2 folds for each of 27 candidates, totalling 54 fits\n",
      "[CV 1/2] END learning_rate=0.01, max_depth=1, n_estimators=2;, score=0.720 total time=   0.1s\n",
      "[CV 2/2] END learning_rate=0.01, max_depth=1, n_estimators=2;, score=0.714 total time=   0.1s\n",
      "[CV 1/2] END learning_rate=0.01, max_depth=1, n_estimators=5;, score=0.720 total time=   0.1s\n",
      "[CV 2/2] END learning_rate=0.01, max_depth=1, n_estimators=5;, score=0.714 total time=   0.1s\n",
      "[CV 1/2] END learning_rate=0.01, max_depth=1, n_estimators=10;, score=0.722 total time=   0.2s\n",
      "[CV 2/2] END learning_rate=0.01, max_depth=1, n_estimators=10;, score=0.714 total time=   0.2s\n",
      "[CV 1/2] END learning_rate=0.01, max_depth=3, n_estimators=2;, score=0.841 total time=   0.1s\n",
      "[CV 2/2] END learning_rate=0.01, max_depth=3, n_estimators=2;, score=0.842 total time=   0.1s\n",
      "[CV 1/2] END learning_rate=0.01, max_depth=3, n_estimators=5;, score=0.842 total time=   0.1s\n",
      "[CV 2/2] END learning_rate=0.01, max_depth=3, n_estimators=5;, score=0.842 total time=   0.2s\n",
      "[CV 1/2] END learning_rate=0.01, max_depth=3, n_estimators=10;, score=0.842 total time=   0.3s\n",
      "[CV 2/2] END learning_rate=0.01, max_depth=3, n_estimators=10;, score=0.842 total time=   0.3s\n",
      "[CV 1/2] END learning_rate=0.01, max_depth=5, n_estimators=2;, score=0.861 total time=   0.2s\n",
      "[CV 2/2] END learning_rate=0.01, max_depth=5, n_estimators=2;, score=0.862 total time=   0.1s\n",
      "[CV 1/2] END learning_rate=0.01, max_depth=5, n_estimators=5;, score=0.871 total time=   0.2s\n",
      "[CV 2/2] END learning_rate=0.01, max_depth=5, n_estimators=5;, score=0.862 total time=   0.3s\n",
      "[CV 1/2] END learning_rate=0.01, max_depth=5, n_estimators=10;, score=0.872 total time=   0.6s\n",
      "[CV 2/2] END learning_rate=0.01, max_depth=5, n_estimators=10;, score=0.863 total time=   0.5s\n",
      "[CV 1/2] END learning_rate=0.1, max_depth=1, n_estimators=2;, score=0.720 total time=   0.1s\n",
      "[CV 2/2] END learning_rate=0.1, max_depth=1, n_estimators=2;, score=0.714 total time=   0.1s\n",
      "[CV 1/2] END learning_rate=0.1, max_depth=1, n_estimators=5;, score=0.752 total time=   0.1s\n",
      "[CV 2/2] END learning_rate=0.1, max_depth=1, n_estimators=5;, score=0.740 total time=   0.2s\n",
      "[CV 1/2] END learning_rate=0.1, max_depth=1, n_estimators=10;, score=0.834 total time=   0.2s\n",
      "[CV 2/2] END learning_rate=0.1, max_depth=1, n_estimators=10;, score=0.835 total time=   0.2s\n",
      "[CV 1/2] END learning_rate=0.1, max_depth=3, n_estimators=2;, score=0.842 total time=   0.1s\n",
      "[CV 2/2] END learning_rate=0.1, max_depth=3, n_estimators=2;, score=0.842 total time=   0.1s\n",
      "[CV 1/2] END learning_rate=0.1, max_depth=3, n_estimators=5;, score=0.847 total time=   0.2s\n",
      "[CV 2/2] END learning_rate=0.1, max_depth=3, n_estimators=5;, score=0.849 total time=   0.1s\n",
      "[CV 1/2] END learning_rate=0.1, max_depth=3, n_estimators=10;, score=0.865 total time=   0.3s\n",
      "[CV 2/2] END learning_rate=0.1, max_depth=3, n_estimators=10;, score=0.863 total time=   0.3s\n",
      "[CV 1/2] END learning_rate=0.1, max_depth=5, n_estimators=2;, score=0.871 total time=   0.1s\n",
      "[CV 2/2] END learning_rate=0.1, max_depth=5, n_estimators=2;, score=0.863 total time=   0.1s\n",
      "[CV 1/2] END learning_rate=0.1, max_depth=5, n_estimators=5;, score=0.876 total time=   0.2s\n",
      "[CV 2/2] END learning_rate=0.1, max_depth=5, n_estimators=5;, score=0.879 total time=   0.2s\n",
      "[CV 1/2] END learning_rate=0.1, max_depth=5, n_estimators=10;, score=0.883 total time=   0.3s\n",
      "[CV 2/2] END learning_rate=0.1, max_depth=5, n_estimators=10;, score=0.887 total time=   0.3s\n",
      "[CV 1/2] END learning_rate=0.5, max_depth=1, n_estimators=2;, score=0.779 total time=   0.1s\n",
      "[CV 2/2] END learning_rate=0.5, max_depth=1, n_estimators=2;, score=0.779 total time=   0.1s\n",
      "[CV 1/2] END learning_rate=0.5, max_depth=1, n_estimators=5;, score=0.846 total time=   0.1s\n",
      "[CV 2/2] END learning_rate=0.5, max_depth=1, n_estimators=5;, score=0.850 total time=   0.1s\n",
      "[CV 1/2] END learning_rate=0.5, max_depth=1, n_estimators=10;, score=0.860 total time=   0.1s\n",
      "[CV 2/2] END learning_rate=0.5, max_depth=1, n_estimators=10;, score=0.865 total time=   0.1s\n",
      "[CV 1/2] END learning_rate=0.5, max_depth=3, n_estimators=2;, score=0.858 total time=   0.1s\n",
      "[CV 2/2] END learning_rate=0.5, max_depth=3, n_estimators=2;, score=0.849 total time=   0.1s\n",
      "[CV 1/2] END learning_rate=0.5, max_depth=3, n_estimators=5;, score=0.879 total time=   0.1s\n",
      "[CV 2/2] END learning_rate=0.5, max_depth=3, n_estimators=5;, score=0.880 total time=   0.1s\n",
      "[CV 1/2] END learning_rate=0.5, max_depth=3, n_estimators=10;, score=0.890 total time=   0.2s\n",
      "[CV 2/2] END learning_rate=0.5, max_depth=3, n_estimators=10;, score=0.892 total time=   0.2s\n",
      "[CV 1/2] END learning_rate=0.5, max_depth=5, n_estimators=2;, score=0.875 total time=   0.1s\n",
      "[CV 2/2] END learning_rate=0.5, max_depth=5, n_estimators=2;, score=0.880 total time=   0.1s\n",
      "[CV 1/2] END learning_rate=0.5, max_depth=5, n_estimators=5;, score=0.890 total time=   0.2s\n",
      "[CV 2/2] END learning_rate=0.5, max_depth=5, n_estimators=5;, score=0.892 total time=   0.2s\n",
      "[CV 1/2] END learning_rate=0.5, max_depth=5, n_estimators=10;, score=0.898 total time=   0.3s\n",
      "[CV 2/2] END learning_rate=0.5, max_depth=5, n_estimators=10;, score=0.901 total time=   0.3s\n",
      "\n",
      "\n",
      "Best parameters are: \n",
      "{'learning_rate': 0.5, 'max_depth': 5, 'n_estimators': 10}\n"
     ]
    }
   ],
   "source": [
    "#XGBoost (finetune/optimal)\n",
    "xgb_parameters = {'max_depth': [1,3,5], 'n_estimators': [2,5,10], 'learning_rate': [.01 , .1, .5]}\n",
    "xgb_optimal = grid_search(XGBClassifier(), xgb_parameters,X_train,Y_train)\n"
   ]
  },
  {
   "cell_type": "code",
   "execution_count": 98,
   "metadata": {},
   "outputs": [
    {
     "name": "stdout",
     "output_type": "stream",
     "text": [
      "              precision    recall  f1-score   support\n",
      "\n",
      "         0.0       0.88      0.86      0.87      9992\n",
      "         1.0       0.72      0.77      0.74      4822\n",
      "\n",
      "    accuracy                           0.83     14814\n",
      "   macro avg       0.80      0.81      0.81     14814\n",
      "weighted avg       0.83      0.83      0.83     14814\n",
      "\n"
     ]
    },
    {
     "data": {
      "text/plain": [
       "0.8265829620629135"
      ]
     },
     "execution_count": 98,
     "metadata": {},
     "output_type": "execute_result"
    }
   ],
   "source": [
    "xgb_optimal_predict=xgb_optimal.predict(X_test)\n",
    "print(classification_report(Y_test, xgb_optimal_predict))\n",
    "accuracy_score(Y_test,xgb_optimal_predict)\n"
   ]
  },
  {
   "cell_type": "code",
   "execution_count": 99,
   "metadata": {},
   "outputs": [
    {
     "data": {
      "text/plain": [
       "{'objective': 'binary:logistic',\n",
       " 'use_label_encoder': False,\n",
       " 'base_score': 0.5,\n",
       " 'booster': 'gbtree',\n",
       " 'callbacks': None,\n",
       " 'colsample_bylevel': 1,\n",
       " 'colsample_bynode': 1,\n",
       " 'colsample_bytree': 1,\n",
       " 'early_stopping_rounds': None,\n",
       " 'enable_categorical': False,\n",
       " 'eval_metric': None,\n",
       " 'gamma': 0,\n",
       " 'gpu_id': -1,\n",
       " 'grow_policy': 'depthwise',\n",
       " 'importance_type': None,\n",
       " 'interaction_constraints': '',\n",
       " 'learning_rate': 0.5,\n",
       " 'max_bin': 256,\n",
       " 'max_cat_to_onehot': 4,\n",
       " 'max_delta_step': 0,\n",
       " 'max_depth': 5,\n",
       " 'max_leaves': 0,\n",
       " 'min_child_weight': 1,\n",
       " 'missing': nan,\n",
       " 'monotone_constraints': '()',\n",
       " 'n_estimators': 10,\n",
       " 'n_jobs': 0,\n",
       " 'num_parallel_tree': 1,\n",
       " 'predictor': 'auto',\n",
       " 'random_state': 0,\n",
       " 'reg_alpha': 0,\n",
       " 'reg_lambda': 1,\n",
       " 'sampling_method': 'uniform',\n",
       " 'scale_pos_weight': 1,\n",
       " 'subsample': 1,\n",
       " 'tree_method': 'exact',\n",
       " 'validate_parameters': 1,\n",
       " 'verbosity': None}"
      ]
     },
     "execution_count": 99,
     "metadata": {},
     "output_type": "execute_result"
    }
   ],
   "source": [
    "xgb_optimal.get_params()"
   ]
  },
  {
   "cell_type": "code",
   "execution_count": 100,
   "metadata": {},
   "outputs": [
    {
     "name": "stdout",
     "output_type": "stream",
     "text": [
      "The accuracy on train dataset is 0.8281316802052159\n",
      "The accuracy on test dataset is 0.8265829620629135\n",
      "\n",
      "Train confusion matrix:\n",
      "[[25549  4281]\n",
      " [ 3357 11254]]\n",
      "\n",
      "Test confusion matrix:\n",
      "[[8553 1439]\n",
      " [1130 3692]]\n",
      "\n",
      "ROC on train data: 0.9061471154969301\n",
      "ROC on test data: 0.902220085898665\n",
      "\n",
      "Train log loss: 0.3622204754425248\n",
      "Test log loss: 0.36780529290295494\n",
      "\n",
      "F score is: 0.7418868682809203\n",
      "Precision is: 0.7195478464236991\n",
      "Recall is: 0.7656574035669846\n"
     ]
    }
   ],
   "source": [
    "check_scores(xgb_optimal,X_train,X_test)"
   ]
  },
  {
   "cell_type": "code",
   "execution_count": 101,
   "metadata": {},
   "outputs": [
    {
     "name": "stderr",
     "output_type": "stream",
     "text": [
      "c:\\Users\\dangh\\AppData\\Local\\Programs\\Python\\Python310\\lib\\site-packages\\sklearn\\linear_model\\_logistic.py:444: ConvergenceWarning: lbfgs failed to converge (status=1):\n",
      "STOP: TOTAL NO. of ITERATIONS REACHED LIMIT.\n",
      "\n",
      "Increase the number of iterations (max_iter) or scale the data as shown in:\n",
      "    https://scikit-learn.org/stable/modules/preprocessing.html\n",
      "Please also refer to the documentation for alternative solver options:\n",
      "    https://scikit-learn.org/stable/modules/linear_model.html#logistic-regression\n",
      "  n_iter_i = _check_optimize_result(\n"
     ]
    }
   ],
   "source": [
    "#Stacking Model\n",
    "stack_classifier= StackingClassifier(classifiers =[xgb,log,grid_forest,mlp],meta_classifier=RandomForestClassifier(),use_probas=True, use_features_in_secondary=True)\n",
    "stack_model=stack_classifier.fit(X_train,Y_train)"
   ]
  },
  {
   "cell_type": "code",
   "execution_count": 102,
   "metadata": {},
   "outputs": [
    {
     "name": "stdout",
     "output_type": "stream",
     "text": [
      "              precision    recall  f1-score   support\n",
      "\n",
      "         0.0       0.83      0.91      0.87      9992\n",
      "         1.0       0.76      0.62      0.68      4822\n",
      "\n",
      "    accuracy                           0.81     14814\n",
      "   macro avg       0.80      0.76      0.78     14814\n",
      "weighted avg       0.81      0.81      0.81     14814\n",
      "\n"
     ]
    }
   ],
   "source": [
    "stack_predict=stack_model.predict(X_test)\n",
    "accuracy_score(Y_test,stack_predict)\n",
    "print(classification_report(Y_test,stack_predict))"
   ]
  },
  {
   "cell_type": "code",
   "execution_count": 103,
   "metadata": {},
   "outputs": [
    {
     "name": "stdout",
     "output_type": "stream",
     "text": [
      "The accuracy on train dataset is 0.9999774982561148\n",
      "The accuracy on test dataset is 0.8136222492237073\n",
      "\n",
      "Train confusion matrix:\n",
      "[[29829     1]\n",
      " [    0 14611]]\n",
      "\n",
      "Test confusion matrix:\n",
      "[[9073  919]\n",
      " [1842 2980]]\n",
      "\n",
      "ROC on train data: 0.9999999942640307\n",
      "ROC on test data: 0.8912094420455485\n",
      "\n",
      "Train log loss: 0.018223087654703835\n",
      "Test log loss: 0.7806477163071138\n",
      "\n",
      "F score is: 0.6834078660704048\n",
      "Precision is: 0.7642985380866889\n",
      "Recall is: 0.6180008295313149\n"
     ]
    }
   ],
   "source": [
    "check_scores(stack_model,X_train,X_test)"
   ]
  }
 ],
 "metadata": {
  "kernelspec": {
   "display_name": "Python 3.10.5 64-bit",
   "language": "python",
   "name": "python3"
  },
  "language_info": {
   "codemirror_mode": {
    "name": "ipython",
    "version": 3
   },
   "file_extension": ".py",
   "mimetype": "text/x-python",
   "name": "python",
   "nbconvert_exporter": "python",
   "pygments_lexer": "ipython3",
   "version": "3.10.5"
  },
  "orig_nbformat": 4,
  "vscode": {
   "interpreter": {
    "hash": "65b6f5995a736e53697b0151395671a7de3dbe3fa45bda5e8c39a4d76ecd5a09"
   }
  }
 },
 "nbformat": 4,
 "nbformat_minor": 2
}
